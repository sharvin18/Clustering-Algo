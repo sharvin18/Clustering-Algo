{
 "cells": [
  {
   "cell_type": "markdown",
   "metadata": {},
   "source": [
    "<u>AIM</u> : TO IMPLEMENT K-MEANS ALGORITHM<br><br>\n",
    "<u>THEORY</u> :<br>\n",
    "K-Means Clustering is an unsupervised learning algorithm that is used to solve the clustering <br>\n",
    "problems in machine learning or data science.It is an iterative algorithm that divides the unlabeled dataset into k <br> different clusters in such a way that each dataset belongs only one group that has similar properties.<br><br>\n",
    " <u>STEPS TO SOLVE KMEANS ALGORITHM:</u><br>\n",
    " STEP 1: DATASET(D) AND NO OF CLUSTERS(K) WILL BE GIVEN<br>\n",
    " STEP 2: SELECT K NO OF RANDOM NO OBJECT FROM DATA (MEAN)<br>\n",
    " STEP 3: CALCULATE DISTANCE OF EACH OBJECT FROM MEAN USING EUCLIDS DISTANCE FORMULA<br>\n",
    " STEP 4: CLASSIFY EACH OBJECT IN CLUSTERS ACCORDING TO MIN DISTANCE FROM RESPECTED MEAN<br>\n",
    "(ie. IF A HAS MIN DISTANCE TO X THAN Y THEN IT WILL BE IN X CLUSTER)<br>\n",
    " STEP 5: CALCULATE MEAN OF EACH CLUSTER AND REPEAT ABOUVE STEPS<br>\n",
    " STEP 6: STOP WHEN MEAN OF PREVIOUS ITERATION IS SAME THAT OF CURRENT ITERATION<br>"
   ]
  },
  {
   "cell_type": "code",
   "execution_count": 1,
   "metadata": {},
   "outputs": [
    {
     "name": "stdout",
     "output_type": "stream",
     "text": [
      "enter length : 10\n",
      "enter dataset11\n",
      "enter dataset2\n",
      "enter dataset33\n",
      "enter dataset12\n",
      "enter dataset42\n",
      "enter dataset1\n",
      "enter dataset9\n",
      "enter dataset10\n",
      "enter dataset14\n",
      "enter dataset13\n"
     ]
    }
   ],
   "source": [
    "#implementing k-means algorithm\n",
    "\n",
    "# k =int(input(\"no of cluster: \"))\n",
    "\n",
    "#enter length of list1\n",
    "x = int(input(\"enter length : \"))\n",
    "dataset = [0] * x\n",
    "for i in range(x):\n",
    "    dataset[i]= int(input(\"enter dataset\"))\n",
    "list1 = dataset\n",
    "m=list1"
   ]
  },
  {
   "cell_type": "code",
   "execution_count": 2,
   "metadata": {},
   "outputs": [
    {
     "name": "stdout",
     "output_type": "stream",
     "text": [
      "DATASET:  [11, 2, 33, 12, 42, 1, 9, 10, 14, 13]\n"
     ]
    }
   ],
   "source": [
    "print(\"DATASET: \",m)\n",
    "n= int(len(m))"
   ]
  },
  {
   "cell_type": "code",
   "execution_count": 3,
   "metadata": {},
   "outputs": [
    {
     "name": "stdout",
     "output_type": "stream",
     "text": [
      "mean m1 : 11\n",
      "mean m2 : 13\n"
     ]
    }
   ],
   "source": [
    "# randomly selecting mean\n",
    "m1 = list1[0]\n",
    "m2= list1[n-1]\n",
    "print(\"mean m1 :\",m1)\n",
    "print(\"mean m2 :\",m2)"
   ]
  },
  {
   "cell_type": "code",
   "execution_count": 4,
   "metadata": {},
   "outputs": [
    {
     "name": "stdout",
     "output_type": "stream",
     "text": [
      "CLUSTER 1 p:  [11, 2, 0, 0, 0, 1, 9, 10, 0, 0]\n",
      "CLUSTER 2 q:  [0, 0, 33, 12, 42, 0, 0, 0, 14, 13]\n",
      "ITERATION NO :  1\n"
     ]
    }
   ],
   "source": [
    "#first iteration\n",
    "iteration = 1\n",
    "p=[0]*x #declaring array\n",
    "q=[0]*x\n",
    "for i in range(n ):\n",
    "    g = abs(m1-m[i])#calculating distance of bobect from mean 1\n",
    "    h = abs(m2-m[i])#calculating distance of object from mean 2\n",
    "    if g<h : # compairing distances\n",
    "        p[i]=m[i]#cluster 1\n",
    "    else:\n",
    "        q[i]=m[i]#cluster 2\n",
    "print(\"CLUSTER 1 p: \",p)\n",
    "print(\"CLUSTER 2 q: \",q)\n",
    "print(\"ITERATION NO : \",iteration)"
   ]
  },
  {
   "cell_type": "code",
   "execution_count": 5,
   "metadata": {},
   "outputs": [
    {
     "name": "stdout",
     "output_type": "stream",
     "text": [
      "[11, 2, 1, 9, 10] [33, 12, 42, 14, 13]\n"
     ]
    }
   ],
   "source": [
    "#removing zero from clusters\n",
    "q=list(filter(lambda num: num != 0, q))\n",
    "p=list(filter(lambda num: num != 0, p))\n",
    "print(p,q)"
   ]
  }
 ],
 "metadata": {
  "kernelspec": {
   "display_name": "Python 3",
   "language": "python",
   "name": "python3"
  },
  "language_info": {
   "codemirror_mode": {
    "name": "ipython",
    "version": 3
   },
   "file_extension": ".py",
   "mimetype": "text/x-python",
   "name": "python",
   "nbconvert_exporter": "python",
   "pygments_lexer": "ipython3",
   "version": "3.6.9"
  }
 },
 "nbformat": 4,
 "nbformat_minor": 5
}
